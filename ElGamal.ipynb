{
 "cells": [
  {
   "cell_type": "code",
   "execution_count": 6,
   "metadata": {},
   "outputs": [],
   "source": [
    "import sympy\n",
    "import random\n",
    "class Receiver():\n",
    "    def __init__(self,prime_number:int, private_key:int):\n",
    "        self.p = prime_number     #We use a prime number cus it is confirmed that there will be a primitive root, all primes have primitive roots/generators\n",
    "        self.a = private_key\n",
    "        assert ((private_key >=1) and ((prime_number-2) >= private_key)),f\"{private_key} must be more than 1 and lesser than p-2\"       \n",
    "        assert sympy.isprime(prime_number), f\"{prime_number} is not a prime\"\n",
    "        self.init()\n",
    "\n",
    "    def init(self):\n",
    "        self.gen_key()\n",
    "\n",
    "    def generate_public_key(self):\n",
    "        e = pow(self.g,self.a,self.p)\n",
    "        public_key = [self.p,self.g,e]\n",
    "        self.e = e\n",
    "        print(public_key)\n",
    "        return public_key\n",
    "\n",
    "#Gotten from a geeks 2 geeks: https://www.geeksforgeeks.org/elgamal-encryption-algorithm/\n",
    "    def gcd(self,a, b):\n",
    "        if a < b:\n",
    "            return self.gcd(b, a)\n",
    "        elif a % b == 0:\n",
    "            return b\n",
    "        else:\n",
    "            return self.gcd(b, a % b)\n",
    "    \n",
    "    def gen_key(self):\n",
    "        key = random.randint(3, self.p)\n",
    "        while self.gcd(self.p, key) != 1:\n",
    "            key = random.randint(3, self.p)\n",
    "\n",
    "        self.g = key\n",
    "        #===================================================\n",
    "\n",
    "\n",
    "    def decrypt(self, encrypted_message: tuple):\n",
    "        a_blind = pow(encrypted_message[0], self.a, self.p)\n",
    "        plaintext = pow((encrypted_message[1] * pow(a_blind ,(self.p-2))),1, self.p)  \n",
    "        # plaintext_bytes = plaintext_int.to_bytes(5, 'little') \n",
    "        # plaintext = plaintext_bytes.decode('ascii')\n",
    "\n",
    "        return plaintext"
   ]
  },
  {
   "cell_type": "code",
   "execution_count": 7,
   "metadata": {},
   "outputs": [],
   "source": [
    "import typing\n",
    "class Sender():\n",
    "    def __init__(self,public_key:list):\n",
    "        self.p = public_key[0]\n",
    "        self.g = public_key[1]\n",
    "        self.e = public_key[2]\n",
    "\n",
    "\n",
    "\n",
    "    def encrypt(self,message,random_int):\n",
    "        # bytes_message = message.encode('ascii')\n",
    "        # print(bytes_message)\n",
    "        # plaintext = int.from_bytes(bytes_message, \"little\")\n",
    "        # print(plaintext)\n",
    "        c1 = pow(self.g, random_int, self.p)\n",
    "        # c2 = pow((plaintext* pow(self.e,5)), 1, self.p)\n",
    "        c2 = pow((message* pow(self.e,5)), 1, self.p)\n",
    "        return c1,c2\n"
   ]
  },
  {
   "cell_type": "code",
   "execution_count": 8,
   "metadata": {},
   "outputs": [
    {
     "name": "stdout",
     "output_type": "stream",
     "text": [
      "197211\n"
     ]
    }
   ],
   "source": [
    "from Crypto.Util.number import * \n",
    "import sympy\n",
    "import random\n",
    "\n",
    "prime_number = getPrime(20, randfunc=None)\n",
    "\n",
    "private_key = random.randint(1, prime_number-2)\n",
    "print(private_key)"
   ]
  },
  {
   "cell_type": "code",
   "execution_count": 9,
   "metadata": {},
   "outputs": [
    {
     "name": "stdout",
     "output_type": "stream",
     "text": [
      "[980621, 763490, 940811]\n"
     ]
    }
   ],
   "source": [
    "Alice = Receiver(prime_number=prime_number,private_key=private_key)\n",
    "public_key = Alice.generate_public_key()   #This prints out our list[3], containing our public key"
   ]
  },
  {
   "cell_type": "code",
   "execution_count": 10,
   "metadata": {},
   "outputs": [
    {
     "name": "stdout",
     "output_type": "stream",
     "text": [
      "(423200, 605127)\n"
     ]
    }
   ],
   "source": [
    "Bob = Sender(public_key)\n",
    "encrypted_message = Bob.encrypt(message=80,random_int=5)  #We send the plaintext 21\n",
    "print(encrypted_message)   #This is ciphertext C1,C2"
   ]
  },
  {
   "cell_type": "code",
   "execution_count": 11,
   "metadata": {},
   "outputs": [
    {
     "name": "stdout",
     "output_type": "stream",
     "text": [
      "80\n"
     ]
    }
   ],
   "source": [
    "plaintext = Alice.decrypt(encrypted_message)\n",
    "print(plaintext)  #We should receive 21 back here"
   ]
  },
  {
   "cell_type": "code",
   "execution_count": 12,
   "metadata": {},
   "outputs": [],
   "source": [
    "from Crypto.PublicKey import ElGamal\n",
    "from Crypto.Random import get_random_bytes\n",
    "import os\n",
    "newKey = ElGamal.generate(512,randfunc=get_random_bytes)"
   ]
  },
  {
   "cell_type": "code",
   "execution_count": 13,
   "metadata": {},
   "outputs": [
    {
     "name": "stdout",
     "output_type": "stream",
     "text": [
      "True\n",
      "True\n",
      "1\n",
      "11091641356348229380417829393910028060774109023390762713347456327683716360945247294743896249880584693741961962994381269800656289331985653650399443262620659\n",
      "5001136922430090133219081043358151254417732956382254549446154297531373643314701908963503930124159155149444600489277158090993309815480591397913953504131172\n",
      "10831023240859256146277385198043453861400793336283690074658165990367990882118158592720171478186632970289335907190964603131006531912079962550255053104353473\n"
     ]
    }
   ],
   "source": [
    "print(newKey.can_sign())\n",
    "print(newKey.can_encrypt())\n",
    "print(newKey.has_private())\n",
    "print(newKey.publickey().p)   #modulus\n",
    "print(newKey.publickey().g)   #generator\n",
    "print(newKey.publickey().y)   #Public Key"
   ]
  },
  {
   "cell_type": "code",
   "execution_count": null,
   "metadata": {},
   "outputs": [],
   "source": []
  }
 ],
 "metadata": {
  "kernelspec": {
   "display_name": "Python 3",
   "language": "python",
   "name": "python3"
  },
  "language_info": {
   "codemirror_mode": {
    "name": "ipython",
    "version": 3
   },
   "file_extension": ".py",
   "mimetype": "text/x-python",
   "name": "python",
   "nbconvert_exporter": "python",
   "pygments_lexer": "ipython3",
   "version": "3.12.3"
  }
 },
 "nbformat": 4,
 "nbformat_minor": 2
}
